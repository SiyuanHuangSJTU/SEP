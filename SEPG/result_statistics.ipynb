{
 "cells": [
  {
   "cell_type": "code",
   "execution_count": 1,
   "metadata": {},
   "outputs": [],
   "source": [
    "import os\n",
    "from os.path import join\n",
    "import numpy as np"
   ]
  },
  {
   "cell_type": "code",
   "execution_count": 2,
   "metadata": {},
   "outputs": [],
   "source": [
    "def performance_statistic(task):\n",
    "\n",
    "    model = 'SEP'\n",
    "\n",
    "    result_file = {}\n",
    "    all_folds_data = {}\n",
    "\n",
    "    for seed in range(20):\n",
    "        current_seed_results_path = join(join('results',join(task,model)),f'{seed}')\n",
    "        filename = os.listdir(current_seed_results_path)\n",
    "        for name in filename:\n",
    "            if name.endswith('total_results.txt'):\n",
    "                result_file[seed] = join(current_seed_results_path,name)\n",
    "            else:\n",
    "                all_folds_data[seed] = join(current_seed_results_path,name)\n",
    "\n",
    "    val_acc_mean = {}\n",
    "    val_acc_std = {}\n",
    "    test_acc_mean = {}\n",
    "    test_acc_std = {}\n",
    "\n",
    "    all_folds_best_loss = []\n",
    "    all_folds_best_acc = []\n",
    "    all_folds_test_loss = []\n",
    "    all_folds_test_acc = []\n",
    "\n",
    "    for k,v in result_file.items():\n",
    "        with open(v,'r') as f:\n",
    "            lines = f.readlines()\n",
    "        rs_data = lines[-1].split(' ')\n",
    "        val_acc_mean[k] = rs_data[-4]\n",
    "        val_acc_std[k] = rs_data[-3]\n",
    "        test_acc_mean[k] = rs_data[-2]\n",
    "        test_acc_std[k] = rs_data[-1]\n",
    "\n",
    "    for k,v in all_folds_data.items():\n",
    "        with open(v,'r') as f:\n",
    "            lines = f.readlines()\n",
    "        for line in lines:\n",
    "            rs_data = line.split(' ')\n",
    "            all_folds_best_loss.append(rs_data[-4])\n",
    "            all_folds_best_acc.append(rs_data[-3])\n",
    "            all_folds_test_loss.append(rs_data[-2])\n",
    "            all_folds_test_acc.append(rs_data[-1])\n",
    "\n",
    "    # print(np.mean(list(map(float,all_folds_best_acc))))\n",
    "    # print(np.mean(list(map(float,all_folds_test_acc))))\n",
    "\n",
    "    print(f'Datasets: {task}')\n",
    "    print()\n",
    "\n",
    "    print(\"average val_acc among 20 seeds: {}\".format(np.mean(list(map(float,list(val_acc_mean.values()))))))\n",
    "    print(\"average val_acc_std among 20 seeds: {}\".format(np.std(list(map(float,all_folds_best_acc)))))\n",
    "    print()\n",
    "    print(\"average test_acc among 20 seeds: {}\".format(np.mean(list(map(float,list(test_acc_mean.values()))))))\n",
    "    print(\"average test_acc_std among 20 seeds: {}\".format(np.std(list(map(float,all_folds_test_acc)))))"
   ]
  },
  {
   "cell_type": "code",
   "execution_count": 3,
   "metadata": {},
   "outputs": [
    {
     "name": "stdout",
     "output_type": "stream",
     "text": [
      "Datasets: DD\n",
      "\n",
      "average val_acc among 20 seeds: 0.8093314500941619\n",
      "average val_acc_std among 20 seeds: 0.032190762462917376\n",
      "\n",
      "average test_acc among 20 seeds: 0.7653679559611763\n",
      "average test_acc_std among 20 seeds: 0.03873389827772151\n"
     ]
    }
   ],
   "source": [
    "performance_statistic(\"DD\")"
   ]
  },
  {
   "cell_type": "code",
   "execution_count": 4,
   "metadata": {},
   "outputs": [
    {
     "name": "stdout",
     "output_type": "stream",
     "text": [
      "Datasets: PROTEINS\n",
      "\n",
      "average val_acc among 20 seeds: 0.7854046010296011\n",
      "average val_acc_std among 20 seeds: 0.02933484973901714\n",
      "\n",
      "average test_acc among 20 seeds: 0.75282537001287\n",
      "average test_acc_std among 20 seeds: 0.03366620440637395\n"
     ]
    }
   ],
   "source": [
    "performance_statistic(\"PROTEINS\")"
   ]
  },
  {
   "cell_type": "code",
   "execution_count": 5,
   "metadata": {},
   "outputs": [
    {
     "name": "stdout",
     "output_type": "stream",
     "text": [
      "Datasets: NCI1\n",
      "\n",
      "average val_acc among 20 seeds: 0.8023600973236011\n",
      "average val_acc_std among 20 seeds: 0.02115348952698187\n",
      "\n",
      "average test_acc among 20 seeds: 0.7808637469586375\n",
      "average test_acc_std among 20 seeds: 0.020583822970788923\n"
     ]
    }
   ],
   "source": [
    "performance_statistic(\"NCI1\")"
   ]
  },
  {
   "cell_type": "code",
   "execution_count": null,
   "metadata": {},
   "outputs": [],
   "source": []
  }
 ],
 "metadata": {
  "kernelspec": {
   "display_name": "GMT_reconstraction",
   "language": "python",
   "name": "python3"
  },
  "language_info": {
   "codemirror_mode": {
    "name": "ipython",
    "version": 3
   },
   "file_extension": ".py",
   "mimetype": "text/x-python",
   "name": "python",
   "nbconvert_exporter": "python",
   "pygments_lexer": "ipython3",
   "version": "3.8.13"
  },
  "orig_nbformat": 4,
  "vscode": {
   "interpreter": {
    "hash": "cd6c73534b25837945c3e497b5daf49121e6d0a7cf5264224e7f90422d29f693"
   }
  }
 },
 "nbformat": 4,
 "nbformat_minor": 2
}
