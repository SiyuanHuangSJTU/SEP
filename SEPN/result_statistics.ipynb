{
 "cells": [
  {
   "cell_type": "code",
   "execution_count": 25,
   "metadata": {},
   "outputs": [],
   "source": [
    "import os\n",
    "from os.path import join\n",
    "import numpy as np"
   ]
  },
  {
   "cell_type": "code",
   "execution_count": 38,
   "metadata": {},
   "outputs": [],
   "source": [
    "def performance_statistic(dataset_name):\n",
    "    print(f'Datasets: {dataset_name}')\n",
    "    para_lists = os.listdir(os.path.join('results',dataset_name,'SEP'))\n",
    "    para2results={}\n",
    "    for para_setting in para_lists:\n",
    "        with open(os.path.join(os.path.join('results',dataset_name,'SEP'),para_setting)) as file:\n",
    "            lines = file.readlines()\n",
    "            scores = []\n",
    "            for line in lines:\n",
    "                scores.append(float(line.split(': ')[-1]))\n",
    "            scores.append(np.mean(np.array(scores)))\n",
    "            scores.append(np.std(np.array(scores)))\n",
    "            para2results[para_setting] = scores\n",
    "    para2results = sorted(para2results.items(), key=lambda x: x[1][-2], reverse=True)\n",
    "    for _ in para2results:\n",
    "        print(f'parameters:{_[0]} score: {_[1][-2]}')\n"
   ]
  },
  {
   "cell_type": "code",
   "execution_count": 39,
   "metadata": {},
   "outputs": [
    {
     "name": "stdout",
     "output_type": "stream",
     "text": [
      "Datasets: Cora\n",
      "parameters:NB=2_TD=3_HD=32_CD=0.5_PD=0.0_WD=0.0005_-results.txt score: 0.8720321931589539\n",
      "parameters:NB=2_TD=3_HD=128_CD=0.5_PD=0.0_WD=0.0005_-results.txt score: 0.8688128772635816\n",
      "parameters:NB=2_TD=5_HD=32_CD=0.5_PD=0.0_WD=0.0005_-results.txt score: 0.867605633802817\n",
      "parameters:NB=4_TD=5_HD=128_CD=0.5_PD=0.0_WD=0.0005_-results.txt score: 0.8670020120724347\n",
      "parameters:NB=4_TD=5_HD=32_CD=0.5_PD=0.0_WD=0.0005_-results.txt score: 0.8653923541247485\n",
      "parameters:NB=2_TD=5_HD=128_CD=0.5_PD=0.0_WD=0.0005_-results.txt score: 0.8653923541247485\n",
      "parameters:NB=2_TD=3_HD=128_CD=0.0_PD=0.0_WD=0.0005_-results.txt score: 0.8629778672032191\n",
      "parameters:NB=2_TD=5_HD=128_CD=0.0_PD=0.0_WD=0.0005_-results.txt score: 0.8579476861167002\n",
      "parameters:NB=2_TD=3_HD=128_CD=0.5_PD=0.0_WD=0.02_-results.txt score: 0.8567404426559356\n",
      "parameters:NB=2_TD=3_HD=32_CD=0.0_PD=0.0_WD=0.0005_-results.txt score: 0.8559356136820926\n",
      "parameters:NB=2_TD=3_HD=32_CD=0.5_PD=0.0_WD=0.02_-results.txt score: 0.8468812877263581\n",
      "parameters:NB=2_TD=5_HD=32_CD=0.0_PD=0.0_WD=0.0005_-results.txt score: 0.8454728370221328\n",
      "parameters:NB=4_TD=5_HD=128_CD=0.0_PD=0.0_WD=0.0005_-results.txt score: 0.8432595573440643\n",
      "parameters:NB=4_TD=5_HD=32_CD=0.5_PD=0.0_WD=0.02_-results.txt score: 0.828169014084507\n",
      "parameters:NB=2_TD=5_HD=32_CD=0.5_PD=0.0_WD=0.02_-results.txt score: 0.8257545271629778\n",
      "parameters:NB=4_TD=5_HD=32_CD=0.0_PD=0.0_WD=0.0005_-results.txt score: 0.8249496981891348\n",
      "parameters:NB=4_TD=5_HD=128_CD=0.5_PD=0.0_WD=0.02_-results.txt score: 0.7907444668008049\n",
      "parameters:NB=4_TD=5_HD=32_CD=0.0_PD=0.0_WD=0.02_-results.txt score: 0.7839034205231389\n",
      "parameters:NB=2_TD=3_HD=32_CD=0.0_PD=0.0_WD=0.02_-results.txt score: 0.7832997987927566\n",
      "parameters:NB=2_TD=5_HD=32_CD=0.0_PD=0.0_WD=0.02_-results.txt score: 0.782092555331992\n",
      "parameters:NB=2_TD=3_HD=128_CD=0.0_PD=0.0_WD=0.02_-results.txt score: 0.7754527162977867\n",
      "parameters:NB=2_TD=5_HD=128_CD=0.5_PD=0.0_WD=0.02_-results.txt score: 0.7464788732394367\n",
      "parameters:NB=4_TD=5_HD=128_CD=0.0_PD=0.0_WD=0.02_-results.txt score: 0.7446680080482897\n",
      "parameters:NB=2_TD=5_HD=128_CD=0.0_PD=0.0_WD=0.02_-results.txt score: 0.6790744466800805\n"
     ]
    }
   ],
   "source": [
    "performance_statistic(\"Cora\")"
   ]
  },
  {
   "cell_type": "code",
   "execution_count": 40,
   "metadata": {},
   "outputs": [
    {
     "name": "stdout",
     "output_type": "stream",
     "text": [
      "Datasets: Citeseer\n",
      "parameters:NB=2_TD=3_HD=128_CD=0.5_PD=0.0_WD=0.02_-results.txt score: 0.7534081251062383\n",
      "parameters:NB=2_TD=5_HD=128_CD=0.5_PD=0.0_WD=0.0005_-results.txt score: 0.752658790866338\n",
      "parameters:NB=2_TD=3_HD=32_CD=0.0_PD=0.0_WD=0.0005_-results.txt score: 0.7522083404158876\n",
      "parameters:NB=4_TD=5_HD=32_CD=0.5_PD=0.0_WD=0.0005_-results.txt score: 0.7520164031956484\n",
      "parameters:NB=2_TD=3_HD=32_CD=0.5_PD=0.0_WD=0.0005_-results.txt score: 0.751844297127316\n",
      "parameters:NB=2_TD=3_HD=32_CD=0.5_PD=0.0_WD=0.02_-results.txt score: 0.7514781290724687\n",
      "parameters:NB=2_TD=5_HD=32_CD=0.5_PD=0.0_WD=0.0005_-results.txt score: 0.7509001926454757\n",
      "parameters:NB=4_TD=5_HD=128_CD=0.5_PD=0.0_WD=0.0005_-results.txt score: 0.7504504504504504\n",
      "parameters:NB=2_TD=3_HD=128_CD=0.5_PD=0.0_WD=0.0005_-results.txt score: 0.7501713978129072\n",
      "parameters:NB=4_TD=5_HD=32_CD=0.5_PD=0.0_WD=0.02_-results.txt score: 0.7459445294350955\n",
      "parameters:NB=2_TD=3_HD=32_CD=0.0_PD=0.0_WD=0.02_-results.txt score: 0.7454282112300981\n",
      "parameters:NB=2_TD=5_HD=32_CD=0.0_PD=0.0_WD=0.0005_-results.txt score: 0.744230551306023\n",
      "parameters:NB=4_TD=5_HD=128_CD=0.0_PD=0.0_WD=0.0005_-results.txt score: 0.7435860388690577\n",
      "parameters:NB=4_TD=5_HD=32_CD=0.0_PD=0.0_WD=0.0005_-results.txt score: 0.7435640829508754\n",
      "parameters:NB=2_TD=3_HD=128_CD=0.0_PD=0.0_WD=0.0005_-results.txt score: 0.743479092299847\n",
      "parameters:NB=2_TD=5_HD=128_CD=0.0_PD=0.0_WD=0.0005_-results.txt score: 0.742706385630914\n",
      "parameters:NB=4_TD=5_HD=128_CD=0.0_PD=0.0_WD=0.02_-results.txt score: 0.740391806901241\n",
      "parameters:NB=2_TD=3_HD=128_CD=0.0_PD=0.0_WD=0.02_-results.txt score: 0.7373009802255085\n",
      "parameters:NB=2_TD=5_HD=32_CD=0.5_PD=0.0_WD=0.02_-results.txt score: 0.7343404725480196\n",
      "parameters:NB=2_TD=5_HD=128_CD=0.5_PD=0.0_WD=0.02_-results.txt score: 0.7319175307382855\n",
      "parameters:NB=2_TD=5_HD=128_CD=0.0_PD=0.0_WD=0.02_-results.txt score: 0.7291298373845544\n",
      "parameters:NB=4_TD=5_HD=128_CD=0.5_PD=0.0_WD=0.02_-results.txt score: 0.7261473737888833\n",
      "parameters:NB=2_TD=5_HD=32_CD=0.0_PD=0.0_WD=0.02_-results.txt score: 0.7241323871040853\n",
      "parameters:NB=4_TD=5_HD=32_CD=0.0_PD=0.0_WD=0.02_-results.txt score: 0.7152119100232308\n"
     ]
    }
   ],
   "source": [
    "performance_statistic(\"Citeseer\")"
   ]
  },
  {
   "cell_type": "code",
   "execution_count": 41,
   "metadata": {},
   "outputs": [
    {
     "name": "stdout",
     "output_type": "stream",
     "text": [
      "Datasets: Pubmed\n",
      "parameters:NB=2_TD=3_HD=128_CD=0.5_PD=0.0_WD=0.0005_-results.txt score: 0.875\n",
      "parameters:NB=2_TD=3_HD=32_CD=0.5_PD=0.0_WD=0.0005_-results.txt score: 0.8738336713995943\n",
      "parameters:NB=2_TD=5_HD=128_CD=0.5_PD=0.0_WD=0.0005_-results.txt score: 0.8651622718052737\n",
      "parameters:NB=2_TD=3_HD=128_CD=0.0_PD=0.0_WD=0.0005_-results.txt score: 0.8636156186612576\n",
      "parameters:NB=4_TD=5_HD=128_CD=0.5_PD=0.0_WD=0.0005_-results.txt score: 0.8631592292089248\n",
      "parameters:NB=2_TD=3_HD=32_CD=0.0_PD=0.0_WD=0.0005_-results.txt score: 0.8599645030425963\n",
      "parameters:NB=4_TD=5_HD=32_CD=0.5_PD=0.0_WD=0.0005_-results.txt score: 0.8593052738336713\n",
      "parameters:NB=2_TD=5_HD=32_CD=0.5_PD=0.0_WD=0.0005_-results.txt score: 0.8583924949290059\n",
      "parameters:NB=2_TD=5_HD=128_CD=0.0_PD=0.0_WD=0.0005_-results.txt score: 0.8367139959432048\n",
      "parameters:NB=4_TD=5_HD=128_CD=0.0_PD=0.0_WD=0.0005_-results.txt score: 0.8323275862068964\n",
      "parameters:NB=2_TD=5_HD=32_CD=0.0_PD=0.0_WD=0.0005_-results.txt score: 0.8272819472616633\n",
      "parameters:NB=4_TD=5_HD=32_CD=0.0_PD=0.0_WD=0.0005_-results.txt score: 0.8185344827586206\n",
      "parameters:NB=4_TD=5_HD=32_CD=0.5_PD=0.0_WD=0.02_-results.txt score: 0.8078853955375255\n",
      "parameters:NB=4_TD=5_HD=128_CD=0.5_PD=0.0_WD=0.02_-results.txt score: 0.8029918864097363\n",
      "parameters:NB=2_TD=5_HD=32_CD=0.5_PD=0.0_WD=0.02_-results.txt score: 0.8014959432048683\n",
      "parameters:NB=2_TD=5_HD=128_CD=0.5_PD=0.0_WD=0.02_-results.txt score: 0.7995182555780934\n",
      "parameters:NB=2_TD=5_HD=32_CD=0.0_PD=0.0_WD=0.02_-results.txt score: 0.7908975659229209\n",
      "parameters:NB=4_TD=5_HD=32_CD=0.0_PD=0.0_WD=0.02_-results.txt score: 0.7862829614604462\n",
      "parameters:NB=4_TD=5_HD=128_CD=0.0_PD=0.0_WD=0.02_-results.txt score: 0.7733265720081135\n",
      "parameters:NB=2_TD=5_HD=128_CD=0.0_PD=0.0_WD=0.02_-results.txt score: 0.6869421906693711\n",
      "parameters:NB=2_TD=3_HD=32_CD=0.5_PD=0.0_WD=0.02_-results.txt score: 0.5776622718052737\n",
      "parameters:NB=2_TD=3_HD=128_CD=0.0_PD=0.0_WD=0.02_-results.txt score: 0.5675456389452332\n",
      "parameters:NB=2_TD=3_HD=128_CD=0.5_PD=0.0_WD=0.02_-results.txt score: 0.5116125760649087\n",
      "parameters:NB=2_TD=3_HD=32_CD=0.0_PD=0.0_WD=0.02_-results.txt score: 0.5084939148073022\n"
     ]
    }
   ],
   "source": [
    "performance_statistic(\"Pubmed\")"
   ]
  },
  {
   "cell_type": "code",
   "execution_count": null,
   "metadata": {},
   "outputs": [],
   "source": []
  }
 ],
 "metadata": {
  "kernelspec": {
   "display_name": "GMT_reconstraction",
   "language": "python",
   "name": "python3"
  },
  "language_info": {
   "codemirror_mode": {
    "name": "ipython",
    "version": 3
   },
   "file_extension": ".py",
   "mimetype": "text/x-python",
   "name": "python",
   "nbconvert_exporter": "python",
   "pygments_lexer": "ipython3",
   "version": "3.8.13"
  },
  "orig_nbformat": 4,
  "vscode": {
   "interpreter": {
    "hash": "cd6c73534b25837945c3e497b5daf49121e6d0a7cf5264224e7f90422d29f693"
   }
  }
 },
 "nbformat": 4,
 "nbformat_minor": 2
}
